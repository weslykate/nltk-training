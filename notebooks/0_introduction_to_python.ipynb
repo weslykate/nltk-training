{
  "nbformat": 4,
  "nbformat_minor": 0,
  "metadata": {
    "colab": {
      "name": "0-introduction-to-python.ipynb",
      "version": "0.3.2",
      "provenance": []
    },
    "kernelspec": {
      "name": "python3",
      "display_name": "Python 3"
    },
    "accelerator": "GPU"
  },
  "cells": [
    {
      "metadata": {
        "id": "ygJFRB5AZ4ce",
        "colab_type": "code",
        "colab": {
          "base_uri": "https://localhost:8080/",
          "height": 34
        },
        "outputId": "0d80778a-5723-4f10-f313-c57003c78a8e"
      },
      "cell_type": "code",
      "source": [
        "print('Hello')"
      ],
      "execution_count": 1,
      "outputs": [
        {
          "output_type": "stream",
          "text": [
            "Hello\n"
          ],
          "name": "stdout"
        }
      ]
    },
    {
      "metadata": {
        "id": "croOGFh0aqGF",
        "colab_type": "code",
        "colab": {
          "base_uri": "https://localhost:8080/",
          "height": 34
        },
        "outputId": "9c3bd325-6f29-4150-880d-95434aa51635"
      },
      "cell_type": "code",
      "source": [
        "message = \"Hello World\"\n",
        "print(message)"
      ],
      "execution_count": 2,
      "outputs": [
        {
          "output_type": "stream",
          "text": [
            "Hello World\n"
          ],
          "name": "stdout"
        }
      ]
    },
    {
      "metadata": {
        "id": "yUNEaQzaa8zo",
        "colab_type": "code",
        "colab": {
          "base_uri": "https://localhost:8080/",
          "height": 51
        },
        "outputId": "39fb0f94-b55e-464c-9dfb-3558a78a0d7f"
      },
      "cell_type": "code",
      "source": [
        "name = input('What is your name?')\n",
        "print(name)"
      ],
      "execution_count": 4,
      "outputs": [
        {
          "output_type": "stream",
          "text": [
            "What is your name?Wesly\n",
            "Wesly\n"
          ],
          "name": "stdout"
        }
      ]
    },
    {
      "metadata": {
        "id": "8mzgl3CobxGK",
        "colab_type": "code",
        "colab": {
          "base_uri": "https://localhost:8080/",
          "height": 34
        },
        "outputId": "c37d068b-a3c7-439e-8f4e-7db83a7d3634"
      },
      "cell_type": "code",
      "source": [
        "a = 1\n",
        "a += 1\n",
        "print(a)"
      ],
      "execution_count": 5,
      "outputs": [
        {
          "output_type": "stream",
          "text": [
            "2\n"
          ],
          "name": "stdout"
        }
      ]
    },
    {
      "metadata": {
        "id": "ixT73OZScGI4",
        "colab_type": "code",
        "colab": {
          "base_uri": "https://localhost:8080/",
          "height": 34
        },
        "outputId": "eddf1f6b-1e5e-4699-c17c-268da9410038"
      },
      "cell_type": "code",
      "source": [
        "subjects = ['Math', 'Science', 'History', 'Political Science']\n",
        "print(subjects[1:3])"
      ],
      "execution_count": 11,
      "outputs": [
        {
          "output_type": "stream",
          "text": [
            "['Science', 'History']\n"
          ],
          "name": "stdout"
        }
      ]
    },
    {
      "metadata": {
        "id": "s9QqKw1XdBDF",
        "colab_type": "code",
        "colab": {
          "base_uri": "https://localhost:8080/",
          "height": 34
        },
        "outputId": "256e4015-425d-4407-aef9-82add2b310bc"
      },
      "cell_type": "code",
      "source": [
        "scientist = {'Name': 'Alan Turing', 'Field': 'Mathematics'}\n",
        "print(scientist.keys())"
      ],
      "execution_count": 18,
      "outputs": [
        {
          "output_type": "stream",
          "text": [
            "dict_keys(['Name', 'Field'])\n"
          ],
          "name": "stdout"
        }
      ]
    },
    {
      "metadata": {
        "id": "rOPgnfHqd3Tl",
        "colab_type": "code",
        "colab": {
          "base_uri": "https://localhost:8080/",
          "height": 119
        },
        "outputId": "7bdfbac3-801c-4dff-bee9-6a5bfa086aa8"
      },
      "cell_type": "code",
      "source": [
        "import numpy as np\n",
        "\n",
        "x = np.array([1, 2, 3])\n",
        "# print(x)\n",
        "\n",
        "c = np.random.randint(10, size=(5))\n",
        "d = np.random.randint(10, size=(5))\n",
        "\n",
        "# print(c, d)\n",
        "\n",
        "# print(c*d)\n",
        "\n",
        "# e = np.random.random((2, 2))\n",
        "# print(e)\n",
        "\n",
        "\n",
        "# e = np.random.random((2, 2))\n",
        "# print(e)\n",
        "\n",
        "print(np.dot(c, d))\n",
        "\n",
        "print(np.equal(c, d))\n",
        "\n",
        "print(c.dtype)\n",
        "\n",
        "print(np.argmax(c))\n",
        "\n",
        "\n",
        "xy = np.array([[1,2],[3,4]])\n",
        "print(np.sum(x))\n",
        "print(np.sum(x, axis=0))"
      ],
      "execution_count": 60,
      "outputs": [
        {
          "output_type": "stream",
          "text": [
            "57\n",
            "[False False False False  True]\n",
            "int64\n",
            "1\n",
            "6\n",
            "6\n"
          ],
          "name": "stdout"
        }
      ]
    }
  ]
}