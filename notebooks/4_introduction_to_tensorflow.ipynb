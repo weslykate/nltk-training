{
  "nbformat": 4,
  "nbformat_minor": 0,
  "metadata": {
    "colab": {
      "name": "4-introduction-to-tensorflow.ipynb",
      "version": "0.3.2",
      "provenance": []
    },
    "kernelspec": {
      "name": "python3",
      "display_name": "Python 3"
    }
  },
  "cells": [
    {
      "metadata": {
        "id": "vTrC9UKV0_cQ",
        "colab_type": "code",
        "colab": {
          "base_uri": "https://localhost:8080/",
          "height": 102
        },
        "outputId": "64e118f6-2cbd-4692-f9a5-7cd73ea0d89f"
      },
      "cell_type": "code",
      "source": [
        "import tensorflow as tf\n",
        "\n",
        "\n",
        "x = tf.placeholder(dtype=tf.float32)\n",
        "\n",
        "y = tf.pow((2 * x), 2) + (2 * x) + 1\n",
        "\n",
        "init_op = tf.global_variables_initializer()\n",
        "\n",
        "sess = tf.Session()\n",
        "\n",
        "sess.run(init_op)\n",
        "\n",
        "value = sess.run(y, feed_dict={x: 10})\n",
        "\n",
        "print(value)\n",
        "\n",
        "print(x)\n",
        "\n",
        "weights = tf.Variable(tf.random_normal(shape=[10]))\n",
        "\n",
        "\n",
        "# sess.run(init_op)\n",
        "sess.run(tf.global_variables_initializer())\n",
        "\n",
        "sess.run(weights)\n",
        "\n"
      ],
      "execution_count": 10,
      "outputs": [
        {
          "output_type": "stream",
          "text": [
            "421.0\n",
            "Tensor(\"Placeholder_9:0\", dtype=float32)\n"
          ],
          "name": "stdout"
        },
        {
          "output_type": "execute_result",
          "data": {
            "text/plain": [
              "array([-0.25610292,  0.03408732,  0.02518276, -1.2561309 ,  0.15532993,\n",
              "       -0.830855  , -2.426757  , -1.6915052 , -1.2411227 , -0.02863996],\n",
              "      dtype=float32)"
            ]
          },
          "metadata": {
            "tags": []
          },
          "execution_count": 10
        }
      ]
    },
    {
      "metadata": {
        "id": "X51YH8Cm9Eun",
        "colab_type": "code",
        "colab": {}
      },
      "cell_type": "code",
      "source": [
        ""
      ],
      "execution_count": 0,
      "outputs": []
    },
    {
      "metadata": {
        "id": "4zLVHueq9FbQ",
        "colab_type": "code",
        "colab": {}
      },
      "cell_type": "code",
      "source": [
        ""
      ],
      "execution_count": 0,
      "outputs": []
    }
  ]
}